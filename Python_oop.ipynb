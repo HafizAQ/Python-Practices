{
  "nbformat": 4,
  "nbformat_minor": 0,
  "metadata": {
    "colab": {
      "provenance": [],
      "authorship_tag": "ABX9TyMiC8P9+dMqyTFKCcc5x7j/",
      "include_colab_link": true
    },
    "kernelspec": {
      "name": "python3",
      "display_name": "Python 3"
    },
    "language_info": {
      "name": "python"
    }
  },
  "cells": [
    {
      "cell_type": "markdown",
      "metadata": {
        "id": "view-in-github",
        "colab_type": "text"
      },
      "source": [
        "<a href=\"https://colab.research.google.com/github/HafizAQ/Python-Practices/blob/main/Python_oop.ipynb\" target=\"_parent\"><img src=\"https://colab.research.google.com/assets/colab-badge.svg\" alt=\"Open In Colab\"/></a>"
      ]
    },
    {
      "cell_type": "markdown",
      "source": [
        "Courtesy/ Ref: https://python.plainenglish.io/classes-in-python-are-very-easy-51c9df53701b\n",
        "\n",
        "#Classes in Python"
      ],
      "metadata": {
        "id": "R3Q8c47wLGrM"
      }
    },
    {
      "cell_type": "code",
      "execution_count": 3,
      "metadata": {
        "id": "Ql2jjKZBLBOH"
      },
      "outputs": [],
      "source": [
        "#1) Class\n",
        "\n",
        "class Dog:\n",
        "  def __init__(self, name, age): #instance/ object is created with initializing results\n",
        "    self.name = name #self referring to the attributes of an object\n",
        "    self.age = age\n",
        "\n",
        "  def bark(self):\n",
        "    print(\"Woof!\")"
      ]
    },
    {
      "cell_type": "code",
      "source": [
        "#Creating Instances\n",
        "\n",
        "my_dog = Dog(\"Brain\",3)\n",
        "print(my_dog.name)\n",
        "print(my_dog.age)\n",
        "print(my_dog.bark())"
      ],
      "metadata": {
        "colab": {
          "base_uri": "https://localhost:8080/"
        },
        "id": "9voYmE4DLyJZ",
        "outputId": "8031f3d6-be0f-44fa-e871-f96b927136a7"
      },
      "execution_count": 4,
      "outputs": [
        {
          "output_type": "stream",
          "name": "stdout",
          "text": [
            "Brain\n",
            "3\n",
            "Woof!\n",
            "None\n"
          ]
        }
      ]
    },
    {
      "cell_type": "code",
      "source": [
        "#2) Inheritance (allows class to inherritance attributes and methods)\n",
        "class Animal:\n",
        "  def __init__(self, name):\n",
        "    self.name = name\n",
        "\n",
        "  def speak(self):\n",
        "    pass\n",
        "\n",
        "class Dog(Animal):\n",
        "  def __init__(self, name, age):\n",
        "    super().__init__(name)\n",
        "    self.age = age\n",
        "\n",
        "  def speak(self):\n",
        "    return f\"{self.name} says Woof!\"\n",
        "\n",
        "# class Cat(Animal):\n",
        "#   def speak(self):\n",
        "#     return f\"{self.name} says Meow!\""
      ],
      "metadata": {
        "id": "dH3gOGD_NHCF"
      },
      "execution_count": 18,
      "outputs": []
    },
    {
      "cell_type": "code",
      "source": [
        "class Puppy(Dog):\n",
        "    def __init__(self, name, age, toy):\n",
        "        super().__init__(name, age)  # Call the parent class's __init__ method\n",
        "        self.toy = toy\n",
        "\n",
        "    def play(self):\n",
        "        return f\"{self.name} plays with {self.toy}\""
      ],
      "metadata": {
        "id": "JOz5b8hfYNht"
      },
      "execution_count": 19,
      "outputs": []
    },
    {
      "cell_type": "code",
      "source": [
        "#3) Encapulation (access specifier, prefixing the variable name with an underscore (_), or double underscore (__))\n",
        "class Dog:\n",
        "  def __init__(self, name, age):\n",
        "    self._name = name\n",
        "    self._age = age\n",
        "\n",
        "  def get_name(self):\n",
        "    return self._name\n",
        "\n",
        "  def set_name(self, name): # Added name as an argument\n",
        "    self._name = name  # Updated to assign the new name to self._name\n",
        "\n",
        "my_dog = Dog(\"Brain\", 3)\n",
        "print(my_dog.get_name())  # Output: Brain\n",
        "\n",
        "my_dog.set_name(\"Max\")\n",
        "print(my_dog.get_name())  # Output: Max"
      ],
      "metadata": {
        "colab": {
          "base_uri": "https://localhost:8080/"
        },
        "id": "XxLe0mzMYVE6",
        "outputId": "8cfe4e0a-1f28-4cba-a103-d23676d157c7"
      },
      "execution_count": 20,
      "outputs": [
        {
          "output_type": "stream",
          "name": "stdout",
          "text": [
            "Brain\n",
            "Max\n"
          ]
        }
      ]
    },
    {
      "cell_type": "code",
      "source": [
        "# ipython-input-15-b586b1ec902c\n",
        "\n",
        "#3) Polymorphism (Allows methods to be used interchangeable between differnt classes)\n",
        "\n",
        "# Instead of redefining Dog here, we need to import it from the previous definition.\n",
        "# from ipython-input-5-b586b1ec902c import Dog, Animal  # Import Dog and Animal from where they were originally defined\n",
        "\n",
        "class Cat(Animal):\n",
        "  def __init__(self, name): # This only takes the name as an argument\n",
        "    super().__init__(name)\n",
        "\n",
        "  def speak(self):\n",
        "    return f\"{self.name} says Meow!\"\n",
        "\n",
        "animals = [Dog(\"Brain\", 3), Cat(\"Max\")] # Removed the extra argument for Cat\n",
        "\n",
        "for animal in animals:\n",
        "  print(animal.speak())"
      ],
      "metadata": {
        "colab": {
          "base_uri": "https://localhost:8080/",
          "height": 183
        },
        "id": "lXKZr81PZnXn",
        "outputId": "f948072e-2765-4178-b271-d83bae6d9d26"
      },
      "execution_count": 21,
      "outputs": [
        {
          "output_type": "error",
          "ename": "AttributeError",
          "evalue": "'Dog' object has no attribute 'speak'",
          "traceback": [
            "\u001b[0;31m---------------------------------------------------------------------------\u001b[0m",
            "\u001b[0;31mAttributeError\u001b[0m                            Traceback (most recent call last)",
            "\u001b[0;32m<ipython-input-21-64a00b00fb13>\u001b[0m in \u001b[0;36m<cell line: 17>\u001b[0;34m()\u001b[0m\n\u001b[1;32m     16\u001b[0m \u001b[0;34m\u001b[0m\u001b[0m\n\u001b[1;32m     17\u001b[0m \u001b[0;32mfor\u001b[0m \u001b[0manimal\u001b[0m \u001b[0;32min\u001b[0m \u001b[0manimals\u001b[0m\u001b[0;34m:\u001b[0m\u001b[0;34m\u001b[0m\u001b[0;34m\u001b[0m\u001b[0m\n\u001b[0;32m---> 18\u001b[0;31m   \u001b[0mprint\u001b[0m\u001b[0;34m(\u001b[0m\u001b[0manimal\u001b[0m\u001b[0;34m.\u001b[0m\u001b[0mspeak\u001b[0m\u001b[0;34m(\u001b[0m\u001b[0;34m)\u001b[0m\u001b[0;34m)\u001b[0m\u001b[0;34m\u001b[0m\u001b[0;34m\u001b[0m\u001b[0m\n\u001b[0m",
            "\u001b[0;31mAttributeError\u001b[0m: 'Dog' object has no attribute 'speak'"
          ]
        }
      ]
    },
    {
      "cell_type": "code",
      "source": [
        "#All together\n",
        "\n",
        "class Animal:\n",
        "    def __init__(self, name):\n",
        "        self.name = name\n",
        "    def speak(self):\n",
        "        pass\n",
        "\n",
        "class Dog(Animal):\n",
        "    def __init__(self, name, age):\n",
        "        super().__init__(name)\n",
        "        self.age = age\n",
        "\n",
        "    def speak(self):\n",
        "        return f\"{self.name} says woof!\"\n",
        "\n",
        "class Cat(Animal):\n",
        "    def __init__(self, name):\n",
        "        super().__init__(name)\n",
        "\n",
        "    def speak(self):\n",
        "        return f\"{self.name} says meow!\"\n",
        "\n",
        "class Puppy(Dog):\n",
        "    def __init__(self, name, age, toy):\n",
        "        super().__init__(name, age)\n",
        "        self.toy = toy\n",
        "\n",
        "    def play(self):\n",
        "        return f\"{self.name} plays with {self.toy}\"\n",
        "\n",
        "animals = [Dog(\"Buddy\", 3), Cat(\"Whiskers\"), Puppy(\"Rex\", 1, \"ball\")]\n",
        "\n",
        "for animal in animals:\n",
        "    print(animal.speak())\n",
        "    if isinstance(animal, Puppy):\n",
        "        print(animal.play())\n"
      ],
      "metadata": {
        "colab": {
          "base_uri": "https://localhost:8080/"
        },
        "id": "mgHjcbQ9dM79",
        "outputId": "7ced4e95-1f4f-413b-df4d-9b7fbf34b906"
      },
      "execution_count": 22,
      "outputs": [
        {
          "output_type": "stream",
          "name": "stdout",
          "text": [
            "Buddy says woof!\n",
            "Whiskers says meow!\n",
            "Rex says woof!\n",
            "Rex plays with ball\n"
          ]
        }
      ]
    },
    {
      "cell_type": "code",
      "source": [],
      "metadata": {
        "id": "xVj9qekde331"
      },
      "execution_count": null,
      "outputs": []
    }
  ]
}